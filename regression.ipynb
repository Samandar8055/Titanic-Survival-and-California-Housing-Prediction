{
  "nbformat": 4,
  "nbformat_minor": 0,
  "metadata": {
    "colab": {
      "provenance": []
    },
    "kernelspec": {
      "name": "python3",
      "display_name": "Python 3"
    },
    "language_info": {
      "name": "python"
    }
  },
  "cells": [
    {
      "cell_type": "code",
      "execution_count": null,
      "metadata": {
        "id": "MogvSkBAXQ8x"
      },
      "outputs": [],
      "source": [
        "from sklearn.preprocessing import LabelEncoder, MinMaxScaler\n",
        "from sklearn.model_selection import train_test_split, GridSearchCV\n",
        "\n",
        "from sklearn.metrics import mean_squared_error\n",
        "\n",
        "from sklearn.svm import SVR\n",
        "from sklearn.linear_model import LinearRegression\n",
        "from sklearn.ensemble import RandomForestRegressor\n",
        "\n",
        "import pandas as pd\n",
        "import numpy as np\n",
        "import matplotlib.pyplot as plt"
      ]
    },
    {
      "cell_type": "code",
      "source": [
        "#Load data\n",
        "df = pd.read_csv('regression.csv')"
      ],
      "metadata": {
        "id": "tAtJ3pqdXzNT"
      },
      "execution_count": null,
      "outputs": []
    },
    {
      "cell_type": "code",
      "source": [
        "#Encode strings with numerical values\n",
        "#First Step\n",
        "encoder = LabelEncoder()\n",
        "encoded = encoder.fit_transform(df['ocean_proximity'])\n",
        "df['ocean_proximity'] = encoded"
      ],
      "metadata": {
        "id": "Clp3zRwLX2Tb"
      },
      "execution_count": null,
      "outputs": []
    },
    {
      "cell_type": "code",
      "source": [
        "#Print null columns\n",
        "#Second Step\n",
        "for column in df.columns:\n",
        "  if not df[column].isnull().any():\n",
        "    continue\n",
        "  print(column)"
      ],
      "metadata": {
        "id": "pvEuv7FoX7st",
        "colab": {
          "base_uri": "https://localhost:8080/"
        },
        "outputId": "1817c66b-c1dd-4774-fcc5-ab3c3a2e3fb2"
      },
      "execution_count": null,
      "outputs": [
        {
          "output_type": "stream",
          "name": "stdout",
          "text": [
            "total_bedrooms\n"
          ]
        }
      ]
    },
    {
      "cell_type": "code",
      "source": [
        "#Replace nans with median values\n",
        "#Second Step\n",
        "df['total_bedrooms'].fillna(df['total_bedrooms'].median(), inplace=True)"
      ],
      "metadata": {
        "id": "8rH9Z9lSX-Yx"
      },
      "execution_count": null,
      "outputs": []
    },
    {
      "cell_type": "code",
      "source": [
        "#Get rid of useless columns\n",
        "#Third step\n",
        "df.drop(['No.'], inplace=True, axis=1)"
      ],
      "metadata": {
        "id": "BJiY4Uy5YAMw"
      },
      "execution_count": null,
      "outputs": []
    },
    {
      "cell_type": "code",
      "source": [
        "Y = df['median_house_value']\n",
        "X = df.drop(['median_house_value'], axis=1)"
      ],
      "metadata": {
        "id": "WrsTFnH1YEM0"
      },
      "execution_count": null,
      "outputs": []
    },
    {
      "cell_type": "code",
      "source": [
        "#Fourth Step\n",
        "#Scaling the data\n",
        "minmax = MinMaxScaler()\n",
        "X_train, X_test, y_train, y_test = train_test_split(minmax.fit_transform(X), Y, test_size=0.2, shuffle=True)"
      ],
      "metadata": {
        "id": "ICCk5XvdYFYa"
      },
      "execution_count": null,
      "outputs": []
    },
    {
      "cell_type": "code",
      "source": [
        "#Train and see accuracies\n",
        "def find_accuracy(ml):\n",
        "  return mean_squared_error(ml.fit(X_train, y_train).predict(X_test), y_test)\n",
        "\n",
        "svm = SVR()\n",
        "rforest = RandomForestRegressor()\n",
        "lregression= LinearRegression()\n",
        "\n",
        "print(\"SVR accuracy:\",find_accuracy(svm))\n",
        "print(\"RandomFR accuracy:\", find_accuracy(rforest))\n",
        "print(\"LinerR accuracy:\", find_accuracy(lregression))"
      ],
      "metadata": {
        "id": "h0Fx1m_qYKQr",
        "colab": {
          "base_uri": "https://localhost:8080/"
        },
        "outputId": "6547e5e0-32b3-49fb-8d4f-d88bae259285"
      },
      "execution_count": null,
      "outputs": [
        {
          "output_type": "stream",
          "name": "stdout",
          "text": [
            "SVR accuracy: 11572519266.144312\n",
            "RandomFR accuracy: 4542544629.960737\n",
            "LinerR accuracy: 5241344123.82143\n"
          ]
        }
      ]
    },
    {
      "cell_type": "code",
      "source": [
        "#Fine tune the model\n",
        "#Used GridSearch to finetune\n",
        "params = {\n",
        "    'n_estimators': [50, 100, 200],\n",
        "    'max_depth': [None, 10, 20],\n",
        "    'min_samples_split': [2, 5, 10],\n",
        "    'min_samples_leaf': [1, 2, 4]\n",
        "}\n",
        "rf = RandomForestRegressor()\n",
        "grid_search = GridSearchCV(rf, params, cv=5, scoring='neg_mean_squared_error')\n",
        "grid_search.fit(X_train, y_train)\n",
        "print(\"Best Parameters:\", grid_search.best_params_)"
      ],
      "metadata": {
        "id": "LwUsQoixYQDw",
        "colab": {
          "base_uri": "https://localhost:8080/"
        },
        "outputId": "a113ccd2-f166-4f92-98ff-c3f192a1af44"
      },
      "execution_count": null,
      "outputs": [
        {
          "output_type": "stream",
          "name": "stdout",
          "text": [
            "Best Parameters: {'max_depth': None, 'min_samples_leaf': 2, 'min_samples_split': 2, 'n_estimators': 200}\n"
          ]
        }
      ]
    },
    {
      "cell_type": "code",
      "source": [
        "best_rf = grid_search.best_estimator_\n",
        "best_rf.fit(X_train, y_train)\n",
        "y_pred = best_rf.predict(X_test)"
      ],
      "metadata": {
        "id": "4GDYjRdbYS5u"
      },
      "execution_count": null,
      "outputs": []
    },
    {
      "cell_type": "code",
      "source": [
        "#Final result\n",
        "mean_squared_error(y_test, y_pred)"
      ],
      "metadata": {
        "id": "p35GFlIfYU_i",
        "colab": {
          "base_uri": "https://localhost:8080/"
        },
        "outputId": "06af2142-39cf-473c-b060-48aa42f0bd30"
      },
      "execution_count": null,
      "outputs": [
        {
          "output_type": "execute_result",
          "data": {
            "text/plain": [
              "4530452807.747878"
            ]
          },
          "metadata": {},
          "execution_count": 12
        }
      ]
    }
  ]
}